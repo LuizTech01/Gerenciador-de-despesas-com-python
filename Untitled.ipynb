{
 "cells": [
  {
   "cell_type": "code",
   "execution_count": 30,
   "id": "c1506bce-89d7-425d-afea-dad19aa22fd6",
   "metadata": {},
   "outputs": [],
   "source": [
    "from openpyxl.utils import get_column_letter\n",
    "import pandas as pd\n",
    "import seaborn as sns\n",
    "import openpyxl\n",
    "\n",
    "workbook = openpyxl.load_workbook('planilha/despesas.xlsx')"
   ]
  },
  {
   "cell_type": "code",
   "execution_count": 31,
   "id": "14cb0aab-5ef8-4c18-97be-cb9572647881",
   "metadata": {},
   "outputs": [],
   "source": [
    "ws = workbook.active\n",
    "ws.insert_cols(5, amount=2)\n",
    "\n",
    "ws['E1'] = 'Método de pagamento'\n",
    "ws['F1'] = 'Tipo de despesa'\n",
    "\n",
    "for col in range(1, ws.max_column + 1):\n",
    "    ws.column_dimensions[get_column_letter(col)].width = 25"
   ]
  },
  {
   "cell_type": "code",
   "execution_count": 32,
   "id": "b02dec7b-c67f-4efd-96aa-3837e2f5a5e7",
   "metadata": {},
   "outputs": [],
   "source": [
    "workbook.save('despesas_atualizada.xlsx')"
   ]
  },
  {
   "cell_type": "code",
   "execution_count": null,
   "id": "d4ab4d18-fa62-4842-98a0-e91aa012a8ec",
   "metadata": {},
   "outputs": [],
   "source": []
  }
 ],
 "metadata": {
  "kernelspec": {
   "display_name": "Python 3 (ipykernel)",
   "language": "python",
   "name": "python3"
  },
  "language_info": {
   "codemirror_mode": {
    "name": "ipython",
    "version": 3
   },
   "file_extension": ".py",
   "mimetype": "text/x-python",
   "name": "python",
   "nbconvert_exporter": "python",
   "pygments_lexer": "ipython3",
   "version": "3.12.8"
  }
 },
 "nbformat": 4,
 "nbformat_minor": 5
}
