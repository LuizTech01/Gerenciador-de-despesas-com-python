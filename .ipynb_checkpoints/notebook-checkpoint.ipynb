{
 "cells": [
  {
   "cell_type": "code",
   "execution_count": 11,
   "id": "c1506bce-89d7-425d-afea-dad19aa22fd6",
   "metadata": {},
   "outputs": [],
   "source": [
    "from openpyxl.utils import get_column_letter\n",
    "from openpyxl.styles import Border, Side\n",
    "from openpyxl.chart import LineChart, Reference\n",
    "from openpyxl.styles import Alignment\n",
    "from openpyxl.styles import Font\n",
    "import matplotlib.pyplot as plt\n",
    "import pandas as pd\n",
    "import openpyxl\n",
    "\n",
    "workbook = openpyxl.load_workbook('planilha/despesas.xlsx')"
   ]
  },
  {
   "cell_type": "code",
   "execution_count": 63,
   "id": "14cb0aab-5ef8-4c18-97be-cb9572647881",
   "metadata": {},
   "outputs": [],
   "source": [
    "#adiciona colunas, dados as celulas, alinhamento da palavras e adiciona bordas ao cabecalho\n",
    "\n",
    "ws = workbook.active\n",
    "ws.insert_cols(5, amount=2)\n",
    "\n",
    "ws['E1'] = 'Método de pagamento'\n",
    "ws['F1'] = 'Tipo de despesa'\n",
    "\n",
    "ws['E1'].alignment = Alignment(horizontal = 'center')\n",
    "ws['F1'].alignment = Alignment(horizontal = 'center')\n",
    "\n",
    "ws[\"E1\"].border = Border(left=borda, right=borda, bottom=borda)\n",
    "ws[\"F1\"].border = Border(left=borda, right=borda, bottom=borda)\n",
    "\n",
    "for col in range(1, ws.max_column + 1):\n",
    "    ws.column_dimensions[get_column_letter(col)].width = 25\n",
    "\n",
    "ws['E2'] = 'Cartao de debito'\n",
    "ws['E3'] = 'Dinheiro'\n",
    "ws['E4'] = 'Cartao de debito'\n",
    "\n",
    "ws['F2'] = 'Fixa'\n",
    "ws['F3'] = 'Fixa'\n",
    "ws['F4'] = 'Variavel'\n",
    "\n",
    "ws['E1'].font = Font(bold=True)\n",
    "ws['F1'].font = Font(bold=True)\n",
    "\n",
    "borda = Side(border_style=\"thin\", color=\"000000\")"
   ]
  },
  {
   "cell_type": "code",
   "execution_count": 64,
   "id": "d3d9295d-654a-401e-b80f-25c289a299e3",
   "metadata": {},
   "outputs": [],
   "source": [
    "#adiciona conteudo de um csv para a planilha excel e posicional o conteudo das celulas apartir da segunda na esquerda\n",
    "\n",
    "df = pd.read_csv('csv/despesas_geradas.csv', sep=\";\", encoding=\"utf-8\")\n",
    "\n",
    "for r_idx, row in enumerate(df.itertuples(index=False), start=4):\n",
    "    for c_idx, value in enumerate(row, start=1):\n",
    "        ws.cell(row=r_idx, column=c_idx, value=value)\n",
    "\n",
    "\n",
    "alignment = Alignment(horizontal='left')\n",
    "\n",
    "for row in ws.iter_rows():\n",
    "    for cell in row:\n",
    "        cell.alignment = alignment\n",
    "\n",
    "workbook.save('despesas_atualizada.xlsx')"
   ]
  },
  {
   "cell_type": "code",
   "execution_count": 10,
   "id": "cc9f03dd-08ed-40e0-966c-95d023dacc37",
   "metadata": {},
   "outputs": [
    {
     "data": {
      "text/plain": [
       "(array([0, 1]), [Text(0, 0, 'Variável'), Text(1, 0, 'Fixa')])"
      ]
     },
     "execution_count": 10,
     "metadata": {},
     "output_type": "execute_result"
    },
    {
     "data": {
      "image/png": "[encoded data removed]",
      "text/plain": [
       "<Figure size 640x480 with 1 Axes>"
      ]
     },
     "metadata": {},
     "output_type": "display_data"
    }
   ],
   "source": [
    "#gera um grafico para comparar as dispesas\n",
    "\n",
    "df2 = pd.read_excel('despesas_atualizada.xlsx')\n",
    "\n",
    "conta_despesa = df2['Tipo de despesa'].value_counts()\n",
    "\n",
    "conta_despesa.plot(kind='bar', color=['blue', 'red'])\n",
    "plt.xticks(rotation=0)"
   ]
  },
  {
   "cell_type": "code",
   "execution_count": null,
   "id": "38e0a747-92ad-44ad-90d1-86aaf3c64ff9",
   "metadata": {},
   "outputs": [],
   "source": []
  }
 ],
 "metadata": {
  "kernelspec": {
   "display_name": "Python 3 (ipykernel)",
   "language": "python",
   "name": "python3"
  },
  "language_info": {
   "codemirror_mode": {
    "name": "ipython",
    "version": 3
   },
   "file_extension": ".py",
   "mimetype": "text/x-python",
   "name": "python",
   "nbconvert_exporter": "python",
   "pygments_lexer": "ipython3",
   "version": "3.12.8"
  }
 },
 "nbformat": 4,
 "nbformat_minor": 5
}
